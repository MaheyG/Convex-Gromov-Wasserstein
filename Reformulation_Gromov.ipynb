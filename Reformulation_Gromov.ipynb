{
 "cells": [
  {
   "cell_type": "markdown",
   "metadata": {},
   "source": [
    "\n",
    "# Compute GW by convex approximation\n",
    "We want to have convex :\n",
    "$$\\min_{p \\in R^{mn}_+} (c^t -2\\lambda y^tH)p+p^t(Q +  \\lambda R)p $$\n",
    "\n",
    "We looking to slighly modify $R$ by $R_\\epsilon$ to have $Q+\\lambda R_\\epsilon$ semi definite positive\n",
    "\n",
    "\n",
    "Where $R=H^tH$ and $Q=-2 C_1\\otimes C_2$\n"
   ]
  },
  {
   "cell_type": "code",
   "execution_count": 239,
   "metadata": {},
   "outputs": [
    {
     "data": {
      "image/png": "[encoded data removed]",
      "text/plain": [
       "<Figure size 576x576 with 1 Axes>"
      ]
     },
     "metadata": {
      "needs_background": "light"
     },
     "output_type": "display_data"
    }
   ],
   "source": [
    "import numpy as np\n",
    "import ot\n",
    "import cvxpy as cp\n",
    "import matplotlib.pylab as pl\n",
    "\n",
    "#Data\n",
    "n=4\n",
    "m=4\n",
    "\n",
    "mu_s = np.array([0, 0])\n",
    "cov_s = np.array([[1, 0], [0, 1]])\n",
    "mu_t = np.array([4, 4])\n",
    "cov_t = np.array([[1, -.8], [-.8, 1]])\n",
    "\n",
    "#xs = ot.datasets.make_2D_samples_gauss(n-1, mu_s, cov_s)\n",
    "#xt = ot.datasets.make_2D_samples_gauss(m-1, mu_t, cov_t)\n",
    "\n",
    "xs=np.array([[3,0],[23,23],[103,103]])\n",
    "xt=np.array([[0,0],[20,20],[100,100]])\n",
    "\n",
    "fig = pl.figure(0,figsize=(8,8))\n",
    "pl.plot(xs[:, 0], xs[:, 1], '+b', label='Source samples')\n",
    "pl.plot(xt[:, 0], xt[:, 1], 'xr', label='Source samples')\n",
    "pl.legend(loc=2)\n",
    "pl.show()\n",
    "\n",
    "### Weights of points ###\n",
    "a=np.array([0,33,33,33])/100 # the first weight is 0 because it is only define for the embedding\n",
    "b=np.array([0,33,33,33])/100"
   ]
  },
  {
   "cell_type": "code",
   "execution_count": 240,
   "metadata": {},
   "outputs": [
    {
     "name": "stdout",
     "output_type": "stream",
     "text": [
      "[[0.         0.21231437 1.        ]\n",
      " [0.21231437 0.         0.78809129]\n",
      " [1.         0.78809129 0.        ]] \n",
      " [[ 4.00081132 -1.21231437 -1.00040566 -1.78809129]\n",
      " [-1.21231437  0.          0.21231437  1.        ]\n",
      " [-1.00040566  0.21231437  0.          0.78809129]\n",
      " [-1.78809129  1.          0.78809129  0.        ]]\n",
      "[[0.  0.2 1. ]\n",
      " [0.2 0.  0.8]\n",
      " [1.  0.8 0. ]] \n",
      " [[ 4.  -1.2 -1.  -1.8]\n",
      " [-1.2  0.   0.2  1. ]\n",
      " [-1.   0.2  0.   0.8]\n",
      " [-1.8  1.   0.8  0. ]]\n"
     ]
    }
   ],
   "source": [
    "#Matrices of distance and embedding \n",
    "\n",
    "D1 = 10*ot.dist(xs, xs, metric='Minkowski')\n",
    "#D1 = np.array([[0,1,2],[1,0,3],[2,3,0]])\n",
    "\n",
    "D2 = 10*ot.dist(xt, xt, metric='Minkowski')\n",
    "#D2 = np.array([[0,3,4],[3,0,5],[4,5,0]])\n",
    "\n",
    "D1/=D1.max()\n",
    "D2/=D2.max()\n",
    "\n",
    "### Embedding in 4x4 matrices ###\n",
    "C1=np.zeros((n,n))\n",
    "C1[1:,1:]= D1\n",
    "C1[0,1:]=-sum(D1) #first row\n",
    "C1[1:,0]=-sum(D1.T) #first column\n",
    "C1[0,0] = sum(sum(D1))\n",
    "\n",
    "C2=np.zeros((m,m))\n",
    "C2[1:,1:]=D2\n",
    "C2[0,1:]=-sum(D2) #first row\n",
    "C2[1:,0]=-sum(D2.T) #first column\n",
    "C2[0,0]=sum(sum(D2))\n",
    "\n",
    "\n",
    "print(D1,\"\\n\",C1)\n",
    "print(D2,\"\\n\",C2)"
   ]
  },
  {
   "cell_type": "code",
   "execution_count": 241,
   "metadata": {},
   "outputs": [
    {
     "name": "stdout",
     "output_type": "stream",
     "text": [
      "[[2. 1. 1. 1. 1. 0. 0. 0. 1. 0. 0. 0. 1. 0. 0. 0.]\n",
      " [1. 2. 1. 1. 0. 1. 0. 0. 0. 1. 0. 0. 0. 1. 0. 0.]\n",
      " [1. 1. 2. 1. 0. 0. 1. 0. 0. 0. 1. 0. 0. 0. 1. 0.]\n",
      " [1. 1. 1. 2. 0. 0. 0. 1. 0. 0. 0. 1. 0. 0. 0. 1.]\n",
      " [1. 0. 0. 0. 2. 1. 1. 1. 1. 0. 0. 0. 1. 0. 0. 0.]\n",
      " [0. 1. 0. 0. 1. 2. 1. 1. 0. 1. 0. 0. 0. 1. 0. 0.]\n",
      " [0. 0. 1. 0. 1. 1. 2. 1. 0. 0. 1. 0. 0. 0. 1. 0.]\n",
      " [0. 0. 0. 1. 1. 1. 1. 2. 0. 0. 0. 1. 0. 0. 0. 1.]\n",
      " [1. 0. 0. 0. 1. 0. 0. 0. 2. 1. 1. 1. 1. 0. 0. 0.]\n",
      " [0. 1. 0. 0. 0. 1. 0. 0. 1. 2. 1. 1. 0. 1. 0. 0.]\n",
      " [0. 0. 1. 0. 0. 0. 1. 0. 1. 1. 2. 1. 0. 0. 1. 0.]\n",
      " [0. 0. 0. 1. 0. 0. 0. 1. 1. 1. 1. 2. 0. 0. 0. 1.]\n",
      " [1. 0. 0. 0. 1. 0. 0. 0. 1. 0. 0. 0. 2. 1. 1. 1.]\n",
      " [0. 1. 0. 0. 0. 1. 0. 0. 0. 1. 0. 0. 1. 2. 1. 1.]\n",
      " [0. 0. 1. 0. 0. 0. 1. 0. 0. 0. 1. 0. 1. 1. 2. 1.]\n",
      " [0. 0. 0. 1. 0. 0. 0. 1. 0. 0. 0. 1. 1. 1. 1. 2.]]\n"
     ]
    }
   ],
   "source": [
    "#Construction of H and R\n",
    "Hr = np.reshape(np.repeat(np.eye(n),m), (n, n*m))\n",
    "Ht = np.tile(np.eye(m),n)\n",
    "H = np.vstack((Hr, Ht))\n",
    "Rr = Hr.T@Hr\n",
    "Rt = Ht.T@Ht\n",
    "R=H.T@H\n",
    "\n",
    "print(R)\n"
   ]
  },
  {
   "cell_type": "code",
   "execution_count": 242,
   "metadata": {},
   "outputs": [],
   "source": [
    "#Kronecker product of the distance\n",
    "Q=-2*np.kron(C1,C2)\n",
    "#print(Q)"
   ]
  },
  {
   "cell_type": "code",
   "execution_count": 243,
   "metadata": {},
   "outputs": [
    {
     "name": "stdout",
     "output_type": "stream",
     "text": [
      "[[ 0.  0.  0.  0.  0. -0.  0. -0.  0. -0. -0. -0.  0. -0. -0. -0.]\n",
      " [ 0.  0.  0.  0. -0.  0.  0.  0. -0.  0.  0.  0. -0.  0.  0.  0.]\n",
      " [ 0.  0.  0. -0. -0.  0.  0.  0. -0.  0.  0.  0. -0. -0.  0.  0.]\n",
      " [ 0.  0.  0.  0. -0.  0.  0.  0. -0.  0. -0.  0. -0.  0.  0.  0.]\n",
      " [-0.  0.  0.  0.  0.  0.  0.  0. -0. -0.  0.  0.  0. -0.  0.  0.]\n",
      " [ 0.  0. -0. -0.  0.  0.  0.  0. -0.  0. -0. -0.  0.  0.  0. -0.]\n",
      " [-0. -0.  0. -0.  0.  0.  0.  0.  0. -0.  0. -0. -0. -0.  0. -0.]\n",
      " [ 0. -0. -0.  0.  0.  0.  0.  0.  0.  0.  0.  0. -0.  0.  0.  0.]\n",
      " [-0.  0.  0.  0.  0.  0. -0.  0.  0.  0.  0.  0.  0. -0. -0.  0.]\n",
      " [ 0.  0. -0. -0.  0.  0.  0.  0.  0.  0.  0.  0. -0.  0.  0.  0.]\n",
      " [ 0. -0.  0.  0. -0.  0.  0. -0.  0.  0.  0.  0. -0.  0.  0. -0.]\n",
      " [ 0. -0. -0.  0. -0.  0.  0.  0.  0.  0.  0.  0.  0.  0.  0.  0.]\n",
      " [-0.  0.  0.  0. -0. -0.  0.  0. -0.  0.  0.  0.  0.  0.  0.  0.]\n",
      " [ 0.  0.  0. -0.  0.  0.  0. -0.  0.  0.  0. -0.  0.  0.  0.  0.]\n",
      " [ 0. -0.  0. -0. -0. -0.  0. -0.  0. -0.  0. -0.  0.  0.  0.  0.]\n",
      " [ 0. -0. -0.  0. -0.  0.  0.  0.  0. -0.  0.  0.  0.  0.  0.  0.]]\n"
     ]
    }
   ],
   "source": [
    "#Check that R and Q a co-diagonalizable\n",
    "print(np.round(Q@R-R@Q,10))"
   ]
  },
  {
   "cell_type": "code",
   "execution_count": 244,
   "metadata": {},
   "outputs": [
    {
     "name": "stdout",
     "output_type": "stream",
     "text": [
      "[-5.84197890e+01  1.30734618e+01  1.29284447e+01 -2.89318962e+00\n",
      "  2.23931371e+00  2.11569972e+00 -5.01124409e-01 -4.68209612e-01\n",
      " -8.10977833e-02  1.50167036e-15  7.07098159e-16 -4.00371937e-16\n",
      " -4.00371937e-16  2.27913323e-16  1.33980013e-17  1.33980013e-17]\n",
      "[ 0.00000000e+00  4.00000000e+00  8.00000000e+00  1.95496126e-16\n",
      " -3.27199609e-16  4.00000000e+00  4.00000000e+00  4.63248931e-16\n",
      " -3.62491333e-16  4.00000000e+00  4.00000000e+00  0.00000000e+00\n",
      "  4.00000000e+00  2.91066339e-17  2.91066339e-17  2.35696271e-16]\n"
     ]
    }
   ],
   "source": [
    "#The eigenvalue of R don't compensate the eigen value of Q \n",
    "\n",
    "print(np.real(np.linalg.eigvals(Q)))\n",
    "print(np.real(np.linalg.eigvals(R)))"
   ]
  },
  {
   "cell_type": "code",
   "execution_count": 245,
   "metadata": {},
   "outputs": [
    {
     "name": "stdout",
     "output_type": "stream",
     "text": [
      "[[2. 1. 1. 1. 1. 0. 0. 0. 1. 0. 0. 0. 1. 0. 0. 0.]\n",
      " [1. 2. 1. 1. 0. 1. 0. 0. 0. 1. 0. 0. 0. 1. 0. 0.]\n",
      " [1. 1. 2. 1. 0. 0. 1. 0. 0. 0. 1. 0. 0. 0. 1. 0.]\n",
      " [1. 1. 1. 2. 0. 0. 0. 1. 0. 0. 0. 1. 0. 0. 0. 1.]\n",
      " [1. 0. 0. 0. 2. 1. 1. 1. 1. 0. 0. 0. 1. 0. 0. 0.]\n",
      " [0. 1. 0. 0. 1. 2. 1. 1. 0. 1. 0. 0. 0. 1. 0. 0.]\n",
      " [0. 0. 1. 0. 1. 1. 2. 1. 0. 0. 1. 0. 0. 0. 1. 0.]\n",
      " [0. 0. 0. 1. 1. 1. 1. 2. 0. 0. 0. 1. 0. 0. 0. 1.]\n",
      " [1. 0. 0. 0. 1. 0. 0. 0. 2. 1. 1. 1. 1. 0. 0. 0.]\n",
      " [0. 1. 0. 0. 0. 1. 0. 0. 1. 2. 1. 1. 0. 1. 0. 0.]\n",
      " [0. 0. 1. 0. 0. 0. 1. 0. 1. 1. 2. 1. 0. 0. 1. 0.]\n",
      " [0. 0. 0. 1. 0. 0. 0. 1. 1. 1. 1. 2. 0. 0. 0. 1.]\n",
      " [1. 0. 0. 0. 1. 0. 0. 0. 1. 0. 0. 0. 2. 1. 1. 1.]\n",
      " [0. 1. 0. 0. 0. 1. 0. 0. 0. 1. 0. 0. 1. 2. 1. 1.]\n",
      " [0. 0. 1. 0. 0. 0. 1. 0. 0. 0. 1. 0. 1. 1. 2. 1.]\n",
      " [0. 0. 0. 1. 0. 0. 0. 1. 0. 0. 0. 1. 1. 1. 1. 2.]]\n"
     ]
    }
   ],
   "source": [
    "# The eigenvalue of R are given by :\n",
    "R_vp=np.array([0,0,0,0,0,0,0,0,0,4,4,4,4,4,4,8])\n",
    "\n",
    "#The eigenvectors are : \n",
    "P=np.array([\n",
    " [ 1,  1,  1,  1,  1,  1,  1,  1,  1, -1, -1,  0, -1, -1,  1, 1],\n",
    " [-1,  0,  0, -1,  0,  0, -1,  0,  0, -1, -1, -1,  0, -1,  1, 1],\n",
    " [ 0, -1,  0,  0, -1,  0,  0, -1,  0, -1, -1, -1, -1,  0,  1, 1],\n",
    " [ 0,  0, -1,  0,  0, -1,  0,  0, -1, -1, -1, -1, -1, -1,  2, 1],\n",
    " [-1, -1, -1,  0,  0,  0,  0,  0,  0,  1,  0,  1,  0,  0, -1, 1],\n",
    " [ 1,  0,  0,  0,  0,  0,  0,  0,  0,  1,  0,  0,  1,  0, -1, 1],\n",
    " [ 0,  1,  0,  0,  0,  0,  0,  0,  0,  1,  0,  0,  0,  1, -1, 1],\n",
    " [ 0,  0,  1,  0,  0,  0,  0,  0,  0,  1,  0,  0,  0,  0,  0, 1],\n",
    " [ 0,  0,  0, -1, -1, -1,  0,  0,  0,  0,  1,  1,  0,  0, -1, 1],\n",
    " [ 0,  0,  0,  1,  0,  0,  0,  0,  0,  0,  1,  0,  1,  0, -1, 1],\n",
    " [ 0,  0,  0,  0,  1,  0,  0,  0,  0,  0,  1,  0,  0,  1, -1, 1],\n",
    " [ 0,  0,  0,  0,  0,  1,  0,  0,  0,  0,  1,  0,  0,  0,  0, 1],\n",
    " [ 0,  0,  0,  0,  0,  0, -1, -1, -1,  0,  0,  1,  0,  0,  0, 1],\n",
    " [ 0,  0,  0,  0,  0,  0,  1,  0,  0,  0,  0,  0,  1,  0,  0, 1],\n",
    " [ 0,  0,  0,  0,  0,  0,  0,  1,  0,  0,  0,  0,  0,  1,  0, 1],\n",
    " [ 0,  0,  0,  0,  0,  0,  0,  0,  1,  0,  0,  0,  0,  0,  1, 1]])\n",
    "\n",
    "P_inv=np.array([\n",
    " [ 1, -3,  1,  1, -3,  9, -3, -3,  1, -3,  1,  1,  1, -3,  1,  1],\n",
    " [ 1,  1, -3,  1, -3, -3,  9, -3,  1,  1, -3,  1,  1,  1, -3,  1],\n",
    " [ 1,  1,  1, -3, -3, -3, -3,  9,  1,  1,  1, -3,  1,  1,  1, -3],\n",
    " [ 1, -3,  1,  1,  1, -3,  1,  1, -3,  9, -3, -3,  1, -3,  1,  1],\n",
    " [ 1,  1, -3,  1,  1,  1, -3,  1, -3, -3,  9, -3,  1,  1, -3,  1],\n",
    " [ 1,  1,  1, -3,  1,  1,  1, -3, -3, -3, -3,  9,  1,  1,  1, -3],\n",
    " [ 1, -3,  1,  1,  1, -3,  1,  1,  1, -3,  1,  1, -3,  9, -3, -3],\n",
    " [ 1,  1, -3,  1,  1,  1, -3,  1,  1,  1, -3,  1, -3, -3,  9, -3],\n",
    " [ 1,  1,  1, -3,  1,  1,  1, -3,  1,  1,  1, -3, -3, -3, -3,  9],\n",
    " [-2, -2, -2,  2,  2,  2,  2,  6, -2, -2, -2,  2, -2, -2, -2,  2],\n",
    " [-2, -2, -2,  2, -2, -2, -2,  2,  2,  2,  2,  6, -2, -2, -2,  2],\n",
    " [ 2, -2, -2, -2,  2, -2, -2, -2,  2, -2, -2, -2,  6,  2,  2,  2],\n",
    " [-2,  2, -2, -2, -2,  2, -2, -2, -2,  2, -2, -2,  2,  6,  2,  2],\n",
    " [-2, -2,  2, -2, -2, -2,  2, -2, -2, -2,  2, -2,  2,  2,  6,  2],\n",
    " [-2, -2, -2,  2, -2, -2, -2,  2, -2, -2, -2,  2,  2,  2,  2,  6],\n",
    " [ 1,  1,  1,  1,  1,  1,  1,  1,  1,  1,  1,  1,  1,  1,  1,  1]])\n",
    "P_inv=P_inv/16\n",
    "\n",
    "print(P@np.diag(R_vp)@P_inv)"
   ]
  },
  {
   "cell_type": "code",
   "execution_count": 246,
   "metadata": {},
   "outputs": [],
   "source": [
    "# We do a slight modification of R by eps\n",
    "eps=1e-1\n",
    "\n",
    "R_vp_eps=np.array([eps,eps,eps,eps,eps,eps,eps,eps,eps,4,4,4,4,4,4,8]) #eigvalue of R\n",
    "R_eps=P@np.diag(R_vp_eps)@P_inv\n"
   ]
  },
  {
   "cell_type": "markdown",
   "metadata": {},
   "source": [
    "The quadratic part is given by :\n",
    "$$Q+\\lambda R_\\epsilon$$"
   ]
  },
  {
   "cell_type": "code",
   "execution_count": 247,
   "metadata": {},
   "outputs": [
    {
     "name": "stdout",
     "output_type": "stream",
     "text": [
      "lambda = 584.1978900363586\n"
     ]
    }
   ],
   "source": [
    "#We construct the quadratic part the problem\n",
    "\n",
    "lam=-np.real(min(np.linalg.eigvals(Q)))/eps #In theory the minimum lambda to take\n",
    "QR_eps=Q+lam*R_eps\n",
    "print(\"lambda =\" ,lam)"
   ]
  },
  {
   "cell_type": "markdown",
   "metadata": {},
   "source": [
    "The Linear par is given by :\n",
    "$$(c^t -2\\lambda y^tH)$$\n",
    "where $c=vec(C_1^2a1_m^t+1_nb^tC_2^2)$"
   ]
  },
  {
   "cell_type": "code",
   "execution_count": 248,
   "metadata": {},
   "outputs": [],
   "source": [
    "# We construct the linear part \n",
    "\n",
    "c=(C1@C1) @ np.tile(a,(4,1)).T + np.tile(b,(4,1))@ (C2@C2)\n",
    "c=np.reshape(c,(1,16))\n",
    "y_H=np.concatenate((a,b))@H\n",
    "q=c-2*lam*y_H"
   ]
  },
  {
   "cell_type": "code",
   "execution_count": 249,
   "metadata": {},
   "outputs": [],
   "source": [
    "## CVX minimization of min_p pq+p(Q+lam*R)p\n",
    "\n",
    "p = cp.Variable(16)\n",
    "objective = cp.Minimize(cp.quad_form(p,QR_eps)+q@p)\n",
    "\n",
    "A=np.diag(np.array([1,1,1,1,1,0,0,0,1,0,0,0,1,0,0,0])) #Constraint p to be nul out of the \"real support\" (not necessary)\n",
    "constraints = [0 <= p, A@p == 0]\n",
    "\n",
    "prob = cp.Problem(objective, constraints)\n",
    "result = prob.solve(verbose=False)\n",
    "G1 = p.value\n",
    "gw_app=np.array([[G1[5],G1[6],G1[7]], #The real support (minus the embedding)\n",
    "                 [G1[9],G1[10],G1[11]],\n",
    "                 [G1[13],G1[14],G1[15]]\n",
    "    ])\n"
   ]
  },
  {
   "cell_type": "code",
   "execution_count": 250,
   "metadata": {},
   "outputs": [],
   "source": [
    "### Compute Gromov-Wasserstein plans and distance with pot ###\n",
    "p=a[1:]\n",
    "q=b[1:]\n",
    "\n",
    "gw0, log0 = ot.gromov.gromov_wasserstein(\n",
    "    D1, D2, p, q, 'square_loss', verbose=False, log=True)\n",
    "\n",
    "\n"
   ]
  },
  {
   "cell_type": "code",
   "execution_count": 251,
   "metadata": {},
   "outputs": [
    {
     "name": "stdout",
     "output_type": "stream",
     "text": [
      "plot plan  \n",
      " [[0.33 0.   0.  ]\n",
      " [0.   0.33 0.  ]\n",
      " [0.   0.   0.33]]\n",
      "convex plan  \n",
      " [[0.10942094 0.10958149 0.10899272]\n",
      " [0.10960025 0.10991944 0.10870157]\n",
      " [0.10898272 0.10871768 0.10993393]]\n",
      "axb plan  \n",
      " [[0.1089 0.1089 0.1089]\n",
      " [0.1089 0.1089 0.1089]\n",
      " [0.1089 0.1089 0.1089]]\n"
     ]
    },
    {
     "data": {
      "image/png": "[encoded data removed]",
      "text/plain": [
       "<Figure size 720x360 with 2 Axes>"
      ]
     },
     "metadata": {
      "needs_background": "light"
     },
     "output_type": "display_data"
    },
    {
     "data": {
      "image/png": "[encoded data removed]",
      "text/plain": [
       "<Figure size 720x360 with 2 Axes>"
      ]
     },
     "metadata": {
      "needs_background": "light"
     },
     "output_type": "display_data"
    }
   ],
   "source": [
    "## Plot the Plans ###\n",
    "\n",
    "a_tens_b= np.tile(q,(3,1))*np.tile(p,(3,1)).T #a tensor b\n",
    "\n",
    "#Compare Gromov pot and Gromov convex\n",
    "pl.figure(1, figsize=(10, 5))\n",
    "pl.subplot(1, 2, 1)\n",
    "pl.imshow(gw0,vmin=0,vmax=1)\n",
    "pl.title('Gromov pot')\n",
    "pl.subplot(1, 2, 2)\n",
    "pl.imshow(gw_app,vmin=0,vmax=1)\n",
    "pl.title('Gromov convex')\n",
    "\n",
    "# Compare Gromov convex and a tensor b\n",
    "pl.figure(2, figsize=(10,5))\n",
    "pl.subplot(1, 2, 1)\n",
    "pl.imshow(gw_app,vmin=0,vmax=1)\n",
    "pl.title('Gromov convex')\n",
    "pl.subplot(1, 2, 2)\n",
    "pl.imshow(a_tens_b,vmin=0,vmax=1)\n",
    "pl.title('a tensor b')\n",
    "\n",
    "print(\"plot plan \",\"\\n\",gw0)\n",
    "print(\"convex plan \" ,\"\\n\",gw_app)\n",
    "print(\"axb plan \",\"\\n\",a_tens_b)"
   ]
  },
  {
   "cell_type": "markdown",
   "metadata": {},
   "source": [
    "### The solution respect the marginal but the plan is always $a\\otimes b$"
   ]
  },
  {
   "cell_type": "markdown",
   "metadata": {},
   "source": [
    "# For this problem the eigenvalues are : "
   ]
  },
  {
   "cell_type": "code",
   "execution_count": 252,
   "metadata": {},
   "outputs": [
    {
     "name": "stdout",
     "output_type": "stream",
     "text": [
      "Q : [-58.  13.  13.  -3.   2.   2.  -1.  -0.  -0.   0.   0.  -0.  -0.   0.\n",
      "   0.   0.]\n",
      "lambda*R_eps :  [  58. 2337. 4674.   58.   58. 2337. 2337.   58.   58. 2337. 2337. 2337.\n",
      "   58.   58.   58.   58.]\n",
      "Q+lambda*R_eps :  [4674.   -0.   71.   71.   56.   61.   61.   58.   58.   58. 2337. 2337.\n",
      " 2337. 2337. 2337. 2337.]\n"
     ]
    }
   ],
   "source": [
    "print(\"Q :\" , np.round(np.real(np.linalg.eigvals(Q))))\n",
    "print(\"lambda*R_eps : \" , np.round(np.real(np.linalg.eigvals(lam*R_eps))))\n",
    "print(\"Q+lambda*R_eps : \", np.round(np.real(np.linalg.eigvals(QR_eps))))"
   ]
  },
  {
   "cell_type": "markdown",
   "metadata": {},
   "source": [
    "#### We can see that the negative eigenvalues of Q are compensated but others are mooved unnecessarily\n",
    "\n",
    "#### The idea is to consider R_eps=P @ [eps,0,0,0,0,0,0,0,0,4,4,4,4,4,4,8] @ P_inv instead"
   ]
  },
  {
   "cell_type": "markdown",
   "metadata": {},
   "source": [
    "## Problem 1 Define like this R_eps is not symmetric :"
   ]
  },
  {
   "cell_type": "code",
   "execution_count": 253,
   "metadata": {},
   "outputs": [
    {
     "name": "stdout",
     "output_type": "stream",
     "text": [
      "[[ 0.    0.01 -0.01 -0.01  0.01 -0.05  0.02  0.02 -0.01  0.02 -0.01 -0.01\n",
      "  -0.01  0.02 -0.01 -0.01]\n",
      " [-0.01  0.    0.01  0.01  0.    0.04 -0.02 -0.02  0.01 -0.02  0.01  0.01\n",
      "   0.01 -0.02  0.01  0.01]\n",
      " [ 0.01 -0.01  0.    0.   -0.01  0.01  0.    0.    0.    0.    0.    0.\n",
      "   0.    0.    0.    0.  ]\n",
      " [ 0.01 -0.01  0.    0.   -0.01  0.01  0.    0.    0.    0.    0.    0.\n",
      "   0.    0.    0.    0.  ]\n",
      " [-0.01 -0.    0.01  0.01  0.    0.04 -0.02 -0.02  0.01 -0.02  0.01  0.01\n",
      "   0.01 -0.02  0.01  0.01]\n",
      " [ 0.05 -0.04 -0.01 -0.01 -0.04  0.    0.02  0.02 -0.01  0.02 -0.01 -0.01\n",
      "  -0.01  0.02 -0.01 -0.01]\n",
      " [-0.02  0.02  0.    0.    0.02 -0.02  0.    0.    0.    0.    0.    0.\n",
      "   0.    0.    0.    0.  ]\n",
      " [-0.02  0.02  0.    0.    0.02 -0.02  0.    0.    0.    0.    0.    0.\n",
      "   0.    0.    0.    0.  ]\n",
      " [ 0.01 -0.01  0.    0.   -0.01  0.01  0.    0.    0.    0.    0.    0.\n",
      "   0.    0.    0.    0.  ]\n",
      " [-0.02  0.02  0.    0.    0.02 -0.02  0.    0.    0.    0.    0.    0.\n",
      "   0.    0.    0.    0.  ]\n",
      " [ 0.01 -0.01  0.    0.   -0.01  0.01  0.    0.    0.    0.    0.    0.\n",
      "   0.    0.    0.    0.  ]\n",
      " [ 0.01 -0.01  0.    0.   -0.01  0.01  0.    0.    0.    0.    0.    0.\n",
      "   0.    0.    0.    0.  ]\n",
      " [ 0.01 -0.01  0.    0.   -0.01  0.01  0.    0.    0.    0.    0.    0.\n",
      "   0.    0.    0.    0.  ]\n",
      " [-0.02  0.02  0.    0.    0.02 -0.02  0.    0.    0.    0.    0.    0.\n",
      "   0.    0.    0.    0.  ]\n",
      " [ 0.01 -0.01  0.    0.   -0.01  0.01  0.    0.    0.    0.    0.    0.\n",
      "   0.    0.    0.    0.  ]\n",
      " [ 0.01 -0.01  0.    0.   -0.01  0.01  0.    0.    0.    0.    0.    0.\n",
      "   0.    0.    0.    0.  ]]\n"
     ]
    }
   ],
   "source": [
    "R_vp_eps=np.array([eps,0,0,0,0,0,0,0,0,4,4,4,4,4,4,8]) #eigvalue of R\n",
    "R_eps=P@np.diag(R_vp_eps)@P_inv\n",
    "print(np.round(R_eps.T-R_eps,2))"
   ]
  },
  {
   "cell_type": "markdown",
   "metadata": {},
   "source": [
    "#### It is because we considered $R_\\epsilon = P D P^{-1}$ and not $R_\\epsilon = P_0 D P_0^t$ with this eigenvectors\n",
    "\n",
    "#### One can construct $P_0$ with numpy but the computation is not a good approximation\n",
    "# Problem 2 The eigenvectors of numpy are not a good approximation\n",
    "#### In particular $P_0 D P_0^t$ is not positive semi definite :"
   ]
  },
  {
   "cell_type": "code",
   "execution_count": 268,
   "metadata": {},
   "outputs": [
    {
     "name": "stdout",
     "output_type": "stream",
     "text": [
      "[[ 2.1  1.1  1.1  1.1  0.9  0.1  0.   0.   0.9  0.  -0.1 -0.   0.8  0.\n",
      "  -0.1 -0.1]\n",
      " [ 1.1  2.   1.2  1.2  0.3  1.1  0.4  0.4 -0.1  0.7 -0.  -0.1 -0.3  0.5\n",
      "  -0.2 -0.3]\n",
      " [ 1.1  1.2  2.1  1.2 -0.1  0.1  0.9  0.   0.2  0.4  1.2  0.3 -0.5 -0.3\n",
      "   0.5 -0.4]\n",
      " [ 1.1  1.2  1.2  2.3 -0.2 -0.2 -0.1  0.9  0.   0.1  0.1  1.2 -0.3 -0.2\n",
      "  -0.1  0.9]\n",
      " [ 0.9  0.3 -0.1 -0.2  1.9  1.3  0.8  0.7  0.9  0.2 -0.2 -0.4  1.2  0.6\n",
      "   0.1 -0. ]\n",
      " [ 0.1  1.1  0.1 -0.2  1.3  2.3  1.2  1.  -0.1  0.9 -0.2 -0.4  0.   1.1\n",
      "  -0.  -0.2]\n",
      " [ 0.   0.4  0.9 -0.1  0.8  1.2  1.7  0.7  0.2  0.6  1.1  0.  -0.2  0.2\n",
      "   0.7 -0.3]\n",
      " [ 0.   0.4  0.   0.9  0.7  1.   0.7  1.6 -0.   0.3  0.   0.9  0.1  0.4\n",
      "   0.1  1. ]\n",
      " [ 0.9 -0.1  0.2  0.   0.9 -0.1  0.2 -0.   1.7  0.8  1.   0.9  1.1  0.1\n",
      "   0.4  0.2]\n",
      " [ 0.   0.7  0.4  0.1  0.2  0.9  0.6  0.3  0.8  1.4  1.1  0.9 -0.1  0.6\n",
      "   0.2 -0. ]\n",
      " [-0.1 -0.   1.2  0.1 -0.2 -0.2  1.1  0.   1.   1.1  2.3  1.3 -0.3 -0.3\n",
      "   1.  -0.1]\n",
      " [-0.  -0.1  0.3  1.2 -0.4 -0.4  0.   0.9  0.9  0.9  1.3  2.1 -0.1 -0.1\n",
      "   0.3  1.2]\n",
      " [ 0.8 -0.3 -0.5 -0.3  1.2  0.  -0.2  0.1  1.1 -0.1 -0.3 -0.1  2.6  1.4\n",
      "   1.2  1.4]\n",
      " [ 0.   0.5 -0.3 -0.2  0.6  1.1  0.2  0.4  0.1  0.6 -0.3 -0.1  1.4  1.8\n",
      "   1.   1.2]\n",
      " [-0.1 -0.2  0.5 -0.1  0.1 -0.   0.7  0.1  0.4  0.2  1.   0.3  1.2  1.\n",
      "   1.8  1.1]\n",
      " [-0.1 -0.3 -0.4  0.9 -0.  -0.2 -0.3  1.   0.2 -0.  -0.1  1.2  1.4  1.2\n",
      "   1.1  2.4]]\n",
      "[ 4.67358e+03  3.60969e+03  3.12067e+03  2.54412e+03  2.18179e+03\n",
      "  1.51311e+03  1.05135e+03  1.75500e+01  1.30000e+01 -5.73000e+00\n",
      "  3.29000e+00 -2.83000e+00  2.17000e+00 -8.00000e-02 -4.60000e-01\n",
      " -5.00000e-01]\n"
     ]
    }
   ],
   "source": [
    "D,P=np.linalg.eig(R)\n",
    "\n",
    "eps=1e-1\n",
    "R_val=np.array([eps,4,8,0,0,4,4,0,0,4,4,0,4,0,0,0]) #eigvalue of R\n",
    "R_test=P@np.diag(R_val)@P.T\n",
    "print(np.real(np.round(R_test,1)))\n",
    "print(np.round(np.real(np.linalg.eigvals(Q+lam*R_test)),2))"
   ]
  },
  {
   "cell_type": "markdown",
   "metadata": {},
   "source": [
    "# Problem 3 Computation of co-eigenvectors are not a good approximation\n",
    "One can compute co-eigenvectors with qutip but it is not a good approximation and don't lead to a semi definite matrix $Q+\\lambda R$"
   ]
  },
  {
   "cell_type": "code",
   "execution_count": 233,
   "metadata": {},
   "outputs": [
    {
     "data": {
      "text/plain": [
       "4672"
      ]
     },
     "execution_count": 233,
     "metadata": {},
     "output_type": "execute_result"
    }
   ],
   "source": [
    "\n"
   ]
  },
  {
   "cell_type": "code",
   "execution_count": null,
   "metadata": {},
   "outputs": [],
   "source": []
  }
 ],
 "metadata": {
  "kernelspec": {
   "display_name": "Python 3",
   "language": "python",
   "name": "python3"
  },
  "language_info": {
   "codemirror_mode": {
    "name": "ipython",
    "version": 3
   },
   "file_extension": ".py",
   "mimetype": "text/x-python",
   "name": "python",
   "nbconvert_exporter": "python",
   "pygments_lexer": "ipython3",
   "version": "3.8.10"
  }
 },
 "nbformat": 4,
 "nbformat_minor": 4
}
